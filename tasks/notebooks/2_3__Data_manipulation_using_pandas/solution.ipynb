{
 "cells": [
  {
   "cell_type": "markdown",
   "id": "74bf5f01-c4b6-4513-8eb0-b911a0726ad8",
   "metadata": {},
   "source": [
    "# Pandas"
   ]
  },
  {
   "cell_type": "markdown",
   "id": "323b1c2b-70ef-4b72-aac1-67cb6252e9ff",
   "metadata": {},
   "source": [
    "Please use `source_files` folder to get the source CSV files and `output_files` folder, which you will use to export results while completing your practical tasks:\n",
    "\n",
    "![](./docs/structure.png)\n",
    "\n",
    "![](./docs/source_files.png)"
   ]
  },
  {
   "cell_type": "markdown",
   "id": "584e328e-194f-4384-93a2-4ad82a8164b0",
   "metadata": {},
   "source": [
    "After you are done with the practical task, your `output_files` folder should look like this:\n",
    "\n",
    "![](./docs/output_files.png)"
   ]
  },
  {
   "cell_type": "markdown",
   "id": "9f47fedc-fe20-4371-a4d0-cb2238089f3f",
   "metadata": {},
   "source": [
    "**Please feel free to change the test cells (cells with assert-s), run those after your solution is implemented for a particular task to check if the results are correct. If you get an error, there is a high probability that you solution won't pass the tests in Autocode.**"
   ]
  },
  {
   "cell_type": "code",
   "execution_count": null,
   "id": "93109d0c-9285-4215-a8ec-94d45e160da7",
   "metadata": {},
   "outputs": [],
   "source": [
    "import os\n",
    "import pandas as pd\n",
    "import numpy as np"
   ]
  },
  {
   "cell_type": "code",
   "execution_count": null,
   "id": "057be29d-be55-465b-9940-32b5f8fcb14d",
   "metadata": {},
   "outputs": [],
   "source": [
    "PATH_TO_SALES = \"./source_files/sales.csv\"\n",
    "PATH_TO_HOUSES = \"./source_files/houses.csv\"\n",
    "PATH_TO_EMPLOYEES = \"./source_files/employees.csv\""
   ]
  },
  {
   "cell_type": "markdown",
   "id": "b9c02e3d-d691-43dd-ac84-50d4b1c5c7ef",
   "metadata": {},
   "source": [
    "### Task 1\n",
    "\n",
    "Create three Dataframes (`sales`, `houses`, and `employees`) using the files in the `source_files` folder."
   ]
  },
  {
   "cell_type": "code",
   "execution_count": null,
   "id": "0e249838-95b8-4156-ba61-a8000746eb1f",
   "metadata": {},
   "outputs": [],
   "source": [
    "# Add your code here\n",
    "sales = pd.read_csv(PATH_TO_SALES)\n",
    "houses = pd.read_csv(PATH_TO_HOUSES)\n",
    "employees = pd.read_csv(PATH_TO_EMPLOYEES)"
   ]
  },
  {
   "cell_type": "code",
   "execution_count": null,
   "id": "45e67aff-4e5e-4f8a-99fc-3c07030dc868",
   "metadata": {},
   "outputs": [],
   "source": [
    "assert 993112 == len(sales), (\n",
    "    \"Incorrect size of sales DataFrame\"\n",
    ")\n",
    "assert 1019875 == len(houses), (\n",
    "    \"Incorrect size of houses DataFrame\"\n",
    ")\n",
    "assert 870 == len(employees), (\n",
    "    \"Incorrect size of employees DataFrame\"\n",
    ")\n",
    "assert (['LOCATION_ID', 'HOUSE_ID', 'DATERECORDED', 'BRANCH_ID', 'CUSTOMER_ID',\n",
    "       'COST', 'SALEAMOUNT', 'PAYMENT_TYPE_ID', 'PAYMENT_TYPE', 'EMP_ID'] == sales.columns).all(), (\n",
    "    \"Incorrect column names for sales DataFrame\"\n",
    ")\n",
    "assert (['HOUSE_ID', 'HOUSE_NAME', 'HOUSE_CATEGORY_ID', 'HOUSE_CATEGORY',\n",
    "       'HOUSE_SUBCATEGORY_ID', 'HOUSE_SUBCATEGORY', 'SQUARE', 'PRICE',\n",
    "       'LOCATION_ID', 'UPDATE_DT'] == houses.columns).all(), (\n",
    "    \"Incorrect column names for houses DataFrame\"\n",
    ")\n",
    "assert (['EMP_ID', 'EMP_FIRST_NAME', 'EMP_LAST_NAME', 'EMP_GENDER',\n",
    "       'EMP_DATE_BIRTH', 'EMP_START_DATE', 'EMP_BRANCH'] == employees.columns).all(), (\n",
    "    \"Incorrect column names for employees DataFrame\"\n",
    ")\n",
    "print(\"Tests were passed\")"
   ]
  },
  {
   "cell_type": "markdown",
   "id": "b742b418-0dd7-44c5-a640-0d4c447bbf54",
   "metadata": {},
   "source": [
    "###  Task 2\n",
    "\n",
    "Extract first and last names from the `employees` DataFrame (use only rows 3 through 10 (included)) into a new DataFrame `names`. Save the `names` DataFrame as a CSV file ('output_files/task_2.csv')."
   ]
  },
  {
   "cell_type": "code",
   "execution_count": null,
   "id": "394b0730-4a50-4734-9660-a1102066adc2",
   "metadata": {},
   "outputs": [],
   "source": [
    "# Add your code here\n",
    "names = employees.iloc[3:11, 1:3].copy() # Extract rows 3-10 (inclusive), columns 'EMP_FIRST_NAME' and 'EMP_LAST_NAME'\n",
    "\n",
    "names.to_csv('./output_files/task_2.csv', index=False) # Save DataFrame as a CSV file"
   ]
  },
  {
   "cell_type": "code",
   "execution_count": null,
   "id": "8f76ff1b-e5a1-4c4e-9b89-1a713559a7e9",
   "metadata": {},
   "outputs": [],
   "source": [
    "assert os.path.exists('./output_files/task_2.csv') == True, (\n",
    "    \"No task_2.csv file in the output_files folder\"\n",
    ")\n",
    "assert \"Shelia\" == names.iloc[0]['EMP_FIRST_NAME'], (\n",
    "    \"Incorrect name of first person\"\n",
    ")\n",
    "assert \"Larchier\" == names.iloc[0]['EMP_LAST_NAME'], (\n",
    "    \"Incorrect surname of first person\"\n",
    ")\n",
    "assert \"Andonis\" == names.iloc[7]['EMP_FIRST_NAME'], (\n",
    "    \"Incorrect name of last person\"\n",
    ")\n",
    "assert \"Muress\" == names.iloc[7]['EMP_LAST_NAME'], (\n",
    "    \"Incorrect surname of last person\"\n",
    ")\n",
    "print(\"Tests were passed\")"
   ]
  },
  {
   "cell_type": "markdown",
   "id": "664c3117-40ad-4dc1-840e-3fe9875c59e3",
   "metadata": {},
   "source": [
    "### Task 3\n",
    "\n",
    "Get the number of male and female employees (using the `.value_counts()` method). Save the resulting Series `amount_by_gender` as a CSV file ('output_files/task_3.csv')."
   ]
  },
  {
   "cell_type": "code",
   "execution_count": null,
   "id": "af8c827e-267c-40c8-b9cc-cdd78ccd1cc6",
   "metadata": {},
   "outputs": [],
   "source": [
    "# Add your code here\n",
    "amount_by_gender = employees['EMP_GENDER'].value_counts() # Calculate counts for each gender\n",
    "\n",
    "amount_by_gender.to_csv('./output_files/task_3.csv') # Save the resulting Series as CSV"
   ]
  },
  {
   "cell_type": "code",
   "execution_count": null,
   "id": "8da2fb17-0d85-4bb6-9664-f97c574dca78",
   "metadata": {},
   "outputs": [],
   "source": [
    "assert os.path.exists('./output_files/task_3.csv') == True, (\n",
    "    \"No task_3.csv file in the output_files folder\"\n",
    ")\n",
    "assert (amount_by_gender.index[0] == \"M\") and (amount_by_gender.loc[\"M\"] == 436), (\n",
    "    \"Incorrect number of men\"\n",
    ")\n",
    "print(\"Tests were passed\")"
   ]
  },
  {
   "cell_type": "markdown",
   "id": "f1e1a131-0b5d-4f36-9fb3-d27d421b6b85",
   "metadata": {},
   "source": [
    "### Task 4\n",
    "\n",
    "Replace empty values in the `SQUARE` column of the `houses` DataFrame with zeros."
   ]
  },
  {
   "cell_type": "code",
   "execution_count": null,
   "id": "87a5aa19-9fa4-42d0-aa98-700adbd9891b",
   "metadata": {},
   "outputs": [],
   "source": [
    "# Add you code here (change 'houses' DataFrame directly)\n",
    "houses['SQUARE'] = houses['SQUARE'].fillna(0) # Replace NaN values in 'SQUARE' column with 0"
   ]
  },
  {
   "cell_type": "code",
   "execution_count": null,
   "id": "150e0159-70b8-4b3a-9841-5f6ad490041f",
   "metadata": {},
   "outputs": [],
   "source": [
    "assert len(houses[houses[\"SQUARE\"].isna()]) == 0, (\n",
    "    \"There are empty cells on square columns\"\n",
    ")\n",
    "print(\"Test was passed\")"
   ]
  },
  {
   "cell_type": "markdown",
   "id": "36e90faa-71b3-4616-a0b8-34ff7133f705",
   "metadata": {},
   "source": [
    "### Task 5\n",
    "\n",
    "Create a new column `UNIT_PRICE` in the `houses` DataFrame using the following formula: `price / square`. Then, round the values in the column to two decimal places. If you cannot calculate the unit price (`square == 0`), set it to -1."
   ]
  },
  {
   "cell_type": "code",
   "execution_count": null,
   "id": "8872f639-1627-4f89-a7dc-5634168696eb",
   "metadata": {},
   "outputs": [],
   "source": [
    "# Add you code here (add new column to 'houses' DataFrame directly)\n",
    "houses['UNIT_PRICE'] = np.where(houses['SQUARE'] != 0, round(houses['PRICE'] / houses['SQUARE'], 2), -1) # Calculate 'UNIT_PRICE', handle division by zero"
   ]
  },
  {
   "cell_type": "code",
   "execution_count": null,
   "id": "a0555ab4-97f5-4c50-ba6d-84a30d374025",
   "metadata": {},
   "outputs": [],
   "source": [
    "assert ('UNIT_PRICE' in houses) == True, (\n",
    "    \"UNIT_PRICE column is missed in houses DataFrame\"\n",
    ")\n",
    "assert houses['UNIT_PRICE'].iloc[0] == 2015, (\n",
    "    \"UNIT_PRICE column is calculated incorrectly in houses DataFrame\"\n",
    ")\n",
    "assert houses['UNIT_PRICE'].iloc[31] == 2015.00, (\n",
    "    \"Incorrect rounding for UNIT_PRICE column in houses DataFrame\"\n",
    ")\n",
    "assert houses['UNIT_PRICE'].iloc[20] == -1, (\n",
    "    \"Incorrect value for UNIT_PRICE column in houses DataFrame in case SQUARE column = 0\"\n",
    ")\n",
    "print(\"Tests were passed\")"
   ]
  },
  {
   "cell_type": "markdown",
   "id": "d603cf2c-fef8-470d-9e9e-e2182cf6c3f0",
   "metadata": {},
   "source": [
    "### Task 6\n",
    "\n",
    "Sort the rows in the `houses` DataFrame so that price is descending. Save the sorted DataFrame (only the `HOUSE_ID`, `SQUARE`, `PRICE`, `UNIT_PRICE` columns) as a CSV file ('output_files/task_6.csv').\n",
    " \n",
    "NOTE: Limiting the number of columns will reduce the size of the file by several times. The tests won't check the number of columns in the output, but please be aware that Git limits the size of a push, try not to exceed 100Mb."
   ]
  },
  {
   "cell_type": "code",
   "execution_count": null,
   "id": "fbd87107-ccbb-4809-8e23-639df932bbcf",
   "metadata": {},
   "outputs": [],
   "source": [
    "# Add you code here (sort 'houses' DataFrame inplace)\n",
    "houses = houses.sort_values(by='PRICE', ascending=False) # Sort 'houses' DataFrame by 'PRICE' in descending order\n",
    "\n",
    "houses[['HOUSE_ID', 'SQUARE', 'PRICE', 'UNIT_PRICE']].to_csv('./output_files/task_6.csv', index=False) # Save selected columns of sorted DataFrame as CSV\n"
   ]
  },
  {
   "cell_type": "code",
   "execution_count": null,
   "id": "b31dff03-16a7-40e6-935f-c52a10fa8d39",
   "metadata": {},
   "outputs": [],
   "source": [
    "assert houses[\"PRICE\"].iloc[-1] == 30400, (\n",
    "    \"Incorrect sorting\"\n",
    ")\n",
    "assert houses[\"PRICE\"].iloc[0] == 558600, (\n",
    "    \"Incorrect sorting\"\n",
    ")\n",
    "assert os.path.exists('./output_files/task_6.csv') == True, (\n",
    "    \"No task_6.csv file in the output_files folder\"\n",
    ")\n",
    "print(\"Tests were passed\")"
   ]
  },
  {
   "cell_type": "markdown",
   "id": "d6cc1c42-9185-42db-96ad-7dd2028c3214",
   "metadata": {},
   "source": [
    "### Task 7\n",
    "\n",
    "Create a new DataFrame `employees_filtered` by filtering the `employees` using the following formula: `first name == \"Vera\"`. Save the result DataFrame as a CSV file ('output_files/task_7.csv')."
   ]
  },
  {
   "cell_type": "code",
   "execution_count": null,
   "id": "5c55f4f4-e364-4931-a8c8-808d72bbc3ce",
   "metadata": {},
   "outputs": [],
   "source": [
    "# Add you code here\n",
    "employees_filtered = employees[employees['EMP_FIRST_NAME'] == 'Vera'].copy() # Filter 'employees' DataFrame based on 'EMP_FIRST_NAME'\n",
    "\n",
    "employees_filtered.to_csv('./output_files/task_7.csv', index=False) # Save the filtered DataFrame as CSV"
   ]
  },
  {
   "cell_type": "code",
   "execution_count": null,
   "id": "e1ec8dcd-0767-4516-988f-a8118a2b2d68",
   "metadata": {},
   "outputs": [],
   "source": [
    "employees_filtered"
   ]
  },
  {
   "cell_type": "code",
   "execution_count": null,
   "id": "93d328ee-0151-4156-96c0-b117b35bb62e",
   "metadata": {},
   "outputs": [],
   "source": [
    "assert os.path.exists('./output_files/task_7.csv') == True, (\n",
    "    \"No task_7.csv file in the output_files folder\"\n",
    ")\n",
    "assert len(employees_filtered) == 1, (\n",
    "    \"Incorrect number of women\"\n",
    ")\n",
    "print(\"Test was passed\")"
   ]
  },
  {
   "cell_type": "markdown",
   "id": "8029f63e-aa17-4b9b-bc5b-a503e9563e4c",
   "metadata": {},
   "source": [
    "### Task 8\n",
    "\n",
    "Create a new DataFrame `grouped_houses` by filtering the `houses` DataFrame so that it keeps only houses with `square >= 100 m^2`, grouping rows by category and subcategory, and calculating the sizes of the resulting groups. Save the resulting DataFrame as a CSV file ('output_files/task_8.csv')."
   ]
  },
  {
   "cell_type": "code",
   "execution_count": null,
   "id": "52c92a2a-b2d4-4ba6-9b7e-28227b9ec8dd",
   "metadata": {},
   "outputs": [],
   "source": [
    "#Add you code here\n",
    "grouped_houses = houses[houses['SQUARE'] >= 100].groupby(['HOUSE_CATEGORY', 'HOUSE_SUBCATEGORY']).size() # Filter, group, and calculate size\n",
    "\n",
    "grouped_houses.to_csv('./output_files/task_8.csv') # Save grouped data as CSV"
   ]
  },
  {
   "cell_type": "code",
   "execution_count": null,
   "id": "3af204c4-8d9b-4d5c-a390-95c20d84d6a6",
   "metadata": {},
   "outputs": [],
   "source": [
    "assert os.path.exists('./output_files/task_8.csv') == True, (\n",
    "    \"No task_8.csv file in the output_files folder\"\n",
    ")\n",
    "assert grouped_houses.loc[('residential','single-family house')] == 86618, (\n",
    "    \"Incorrect count\"\n",
    ")\n",
    "assert grouped_houses.index[0]==('non-residential','office'), (\n",
    "    \"Incorrect group by columns\"\n",
    ")\n",
    "print(\"Tests were passed\")"
   ]
  },
  {
   "attachments": {},
   "cell_type": "markdown",
   "id": "bab725c4-ff1e-436d-9467-271ff8a85101",
   "metadata": {},
   "source": [
    "### Task 9\n",
    "\n",
    "Update the column `SALEAMOUNT` (`sales` DataFrame) according to the following formula: `SALEAMOUNT = SALEAMOUNT + MEAN(SALEAMOUNT) * 0.02`. Save the updated DataFrame (only the `HOUSE_ID` and `SALEAMOUNT` columns) as a CSV file ('output_files/task_9.csv'). \n",
    "\n",
    "NOTE: Limiting the number of columns will reduce the size of the file by several times. The tests won't check the number of columns in the output, but please be aware that Git limits the size of a push, try not to exceed 100Mb."
   ]
  },
  {
   "cell_type": "code",
   "execution_count": null,
   "id": "a3d0ad03-01f5-441d-8a56-6550db5d4b7a",
   "metadata": {},
   "outputs": [],
   "source": [
    "# Add your code here\n",
    "sales['SALEAMOUNT'] = sales['SALEAMOUNT'] + sales['SALEAMOUNT'].mean() * 0.02 # Update 'SALEAMOUNT' column\n",
    "\n",
    "sales[['HOUSE_ID', 'SALEAMOUNT']].to_csv('./output_files/task_9.csv', index=False) # Save the updated DataFrame with selected columns as CSV"
   ]
  },
  {
   "cell_type": "code",
   "execution_count": null,
   "id": "2099838c-aa06-447b-a9d2-a56c0677c5b7",
   "metadata": {},
   "outputs": [],
   "source": [
    "assert os.path.exists('./output_files/task_9.csv') == True, (\n",
    "    \"No task_9.csv file in the output_files folder\"\n",
    ")\n",
    "assert sales['SALEAMOUNT'][0] == 52000.740744939336, (\n",
    "    \"Value in SALESAMOUNT column is incorrect after update\"\n",
    ")\n",
    "print(\"Test was passed\")"
   ]
  },
  {
   "cell_type": "markdown",
   "id": "2240eebe-c7d9-47b5-9d9e-70d804fd4dcc",
   "metadata": {},
   "source": [
    "### Task 10\n",
    "\n",
    "Create a new DataFrame `houses_available` that contains all houses that have not been sold yet (they will exist in `houses`, but not in `sales`; you may use the `.join` method with the `house_id` column). Save the resulting DataFrame (only the `HOUSE_ID` column) as a CSV file ('output_files/task_10.csv'). "
   ]
  },
  {
   "cell_type": "code",
   "execution_count": null,
   "id": "51ff563e-b38d-4852-b017-46bc1da7ad7b",
   "metadata": {},
   "outputs": [],
   "source": [
    "# Add your code here\n",
    "houses_available = houses.merge(sales, on='HOUSE_ID', how='left', indicator=True).query('_merge == \"left_only\"').drop('_merge', axis=1) # Merge and filter for houses not in 'sales'\n",
    "\n",
    "houses_available[['HOUSE_ID']].to_csv('./output_files/task_10.csv', index=False) # Save 'HOUSE_ID' column of filtered DataFrame as CSV"
   ]
  },
  {
   "cell_type": "code",
   "execution_count": null,
   "id": "5b3528e8-c37b-4385-b918-ad39976fc439",
   "metadata": {},
   "outputs": [],
   "source": [
    "assert os.path.exists('./output_files/task_10.csv') == True, (\n",
    "    \"No task_10.csv file in the output_files folder\"\n",
    ")\n",
    "assert len(list(houses_available['HOUSE_ID'].unique())) == 26775, (\n",
    "    \"Incorrect number of houses\"\n",
    ")\n",
    "assert (917505 in list(houses_available['HOUSE_ID'].unique())) and (131073 in list(houses_available['HOUSE_ID'].unique())), (\n",
    "    \"Incorrect values in house_ids_available list\"\n",
    ")\n",
    "print(\"Tests were passed\")"
   ]
  }
 ],
 "metadata": {
  "kernelspec": {
   "display_name": "Python 3 (ipykernel)",
   "language": "python",
   "name": "python3"
  },
  "language_info": {
   "codemirror_mode": {
    "name": "ipython",
    "version": 3
   },
   "file_extension": ".py",
   "mimetype": "text/x-python",
   "name": "python",
   "nbconvert_exporter": "python",
   "pygments_lexer": "ipython3",
   "version": "3.9.18"
  }
 },
 "nbformat": 4,
 "nbformat_minor": 5
}

